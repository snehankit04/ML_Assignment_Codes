{
  "nbformat": 4,
  "nbformat_minor": 0,
  "metadata": {
    "colab": {
      "name": "KnnClass.ipynb",
      "provenance": []
    },
    "kernelspec": {
      "name": "python3",
      "display_name": "Python 3"
    },
    "language_info": {
      "name": "python"
    }
  },
  "cells": [
    {
      "cell_type": "code",
      "execution_count": 3,
      "metadata": {
        "id": "vZ9QoyD-w05L"
      },
      "outputs": [],
      "source": [
        "class Knn:\n",
        "  def in_x():\n",
        "    k = 0\n",
        "    x_out = [] #input for X_out\n",
        "    first = int(input(\"enter persons Age: \"))\n",
        "    x_out.append(first)\n",
        "    second = int(input(\"enter persons Salary: \"))\n",
        "    x_out.append(second)\n",
        "    k = int(input(\"enter Value of K: \"))\n",
        "    # reading file \n",
        "    import pandas as pd \n",
        "    dataset = pd.read_csv(\"/content/Social_Network_Ads.csv\")\n",
        "    X = dataset.iloc[:,2:4] #2d data age and salary\n",
        "    y = dataset.iloc[:,4:] # purchesed or no if \"0\" or \"1\"\n",
        "    return X,y,dataset,x_out,k\n",
        "  \n",
        "  def k_nearest(x_out,k,dataset):\n",
        "    #percent=0\n",
        "    class_1,class_2=0,0\n",
        "    k_dist=dataset.sort_values(by=[\"Distance\"])\n",
        "    k_distance=k_dist.head(k)\n",
        "    class_1 = k_distance['Purchased'].value_counts()[0]\n",
        "    class_2 = k_distance['Purchased'].value_counts()[1]\n",
        "    if class_1 > class_2:\n",
        "      percent=(class_1/k)*100\n",
        "      return \"predicted point:\",x_out,\" goes in Will Not purchase class \",percent,\"%\"\n",
        "    else:\n",
        "      percent=(class_2/k)*100\n",
        "      return \"predicted point:\",x_out,\" goes in Will purchase class\", percent,\"%\"\n",
        "  \n",
        "  def calculate_distance(X,x_out,dataset):\n",
        "    import numpy as np\n",
        "    distance = []\n",
        "    for i in range(len(X)):\n",
        "      dist = np.linalg.norm(np.array(X[i:i+1])-np.array(x_out))\n",
        "      distance.append(dist)\n",
        "    dataset[\"Distance\"]=distance\n",
        "    return dataset\n",
        "\n",
        "  def predict():\n",
        "    X,y,dataset,x_out,k=Knn.in_x()\n",
        "    dataset=Knn.calculate_distance(X,x_out,dataset)\n",
        "    return Knn.k_nearest(x_out,k,dataset)\n"
      ]
    },
    {
      "cell_type": "code",
      "source": [
        "object_knn=Knn\n",
        "X,y,dataset,x_out,k=object_knn.in_x()\n",
        "dataset=object_knn.calculate_distance(X,x_out,dataset)\n",
        "object_knn.k_nearest(x_out,k,dataset)\n",
        "\n"
      ],
      "metadata": {
        "colab": {
          "base_uri": "https://localhost:8080/"
        },
        "id": "Jmp1q8hzV1Lz",
        "outputId": "fc9f6bf1-2be6-482f-c6e1-ab2b4399786c"
      },
      "execution_count": 4,
      "outputs": [
        {
          "name": "stdout",
          "output_type": "stream",
          "text": [
            "enter persons Age: 43\n",
            "enter persons Salary: 30000\n",
            "enter Value of K: 5\n"
          ]
        },
        {
          "output_type": "execute_result",
          "data": {
            "text/plain": [
              "('predicted point:', [43, 30000], ' goes in Will purchase class', 60.0, '%')"
            ]
          },
          "metadata": {},
          "execution_count": 4
        }
      ]
    }
  ]
}