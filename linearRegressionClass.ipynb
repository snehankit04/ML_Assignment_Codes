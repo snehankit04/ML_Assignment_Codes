{
  "cells": [
    {
      "cell_type": "code",
      "execution_count": 15,
      "metadata": {
        "id": "E6aC7fALLB0s"
      },
      "outputs": [],
      "source": [
        "class LinearRegression:\n",
        "  def enter_values():\n",
        "    in_x_value,out_put=[],[]\n",
        "    m_weight = [0]\n",
        "    c_biases = [0]\n",
        "    final_error=[0]\n",
        "    predict=[]\n",
        "    len_in = int(input(('enter the length of x: ')))\n",
        "    len_out = int(input(('enter the length of y: ')))\n",
        "    for i in range (0, len_in):\n",
        "      elements_in= int(input('el of input  X '))\n",
        "      in_x_value.append(elements_in)\n",
        "    for i in range (0, len_out):\n",
        "      elements_out = int(input('el of out_put Y '))\n",
        "      out_put.append(elements_out)\n",
        "    predict.append(int(input('enter no you want to predict ')))\n",
        "    alpha=[0.1]\n",
        "    \n",
        "    return(in_x_value,out_put,m_weight,c_biases,final_error,alpha,predict)\n",
        "\n",
        "\n",
        "  def weights1(in_x_value,out_put,m_weight,c_biases,alpha):\n",
        "    mold=m_weight[-1]\n",
        "    cold=c_biases[-1]\n",
        "    mnew,cnew=0,0\n",
        "    for in_x,out in zip(in_x_value,out_put):  \n",
        "      yhat = mold*in_x+cold\n",
        "      mnew = mnew+((yhat-out)*in_x)\n",
        "      cnew = cnew+(yhat-out)\n",
        "    m_weight.append(mold-alpha[-1]*(mnew))\n",
        "    c_biases.append(cold-alpha[-1]*(cnew))\n",
        "    return m_weight,c_biases\n",
        "  def error1(in_x_value,out_put,m_weight,c_biases,alpha,final_error):\n",
        "    error=0\n",
        "    for in_x,out in zip(in_x_value,out_put):\n",
        "      yhat= m_weight[-1]*in_x+c_biases[-1]\n",
        "      error = (error+(out-yhat))\n",
        "    final_error.append(0.5*((error)**2))\n",
        "    return final_error\n",
        "  def predict_values(m_weight,c_biases,predict):\n",
        "    return(print(\"for:\",predict[0],\"prediction is\",m_weight[-1]*predict[0]+c_biases[-1]))\n",
        "\n",
        "  def output():\n",
        "    in_x_value,out_put,m_weight,c_biases,final_error,alpha,predict=LinearRegression.enter_values()\n",
        "    for i in range(0,3000): \n",
        "      LinearRegression.error1(in_x_value,out_put,m_weight,c_biases,alpha,final_error )\n",
        "      if len(final_error) > 3:\n",
        "        if final_error[-2]<final_error[-1]:\n",
        "          alpha.append(alpha[-1]*1/10)\n",
        "          m_weight.pop()\n",
        "          c_biases.pop() \n",
        "      LinearRegression.weights1(in_x_value,out_put,m_weight,c_biases,alpha)\n",
        "    return(LinearRegression.predict_values(m_weight,c_biases,predict)) \n"
      ]
    },
    {
      "cell_type": "code",
      "execution_count": null,
      "metadata": {
        "id": "icvejbsaLGFf"
      },
      "outputs": [],
      "source": [
        "\n",
        "lr=LinearRegression\n",
        "lr.output()\n",
        "\n"
      ]
    }
  ],
  "metadata": {
    "colab": {
      "collapsed_sections": [],
      "name": "linearRegressionClass.ipynb",
      "provenance": []
    },
    "kernelspec": {
      "display_name": "Python 3",
      "name": "python3"
    },
    "language_info": {
      "name": "python"
    }
  },
  "nbformat": 4,
  "nbformat_minor": 0
}
